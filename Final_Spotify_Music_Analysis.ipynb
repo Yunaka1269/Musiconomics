{
 "cells": [
  {
   "cell_type": "code",
   "execution_count": null,
   "metadata": {},
   "outputs": [],
   "source": [
    "import pandas as pd\n",
    "import seaborn as sns\n",
    "import numpy as np\n",
    "import matplotlib.pyplot as plt\n",
    "%matplotlib inline\n",
    "import plotly.graph_objects as go\n",
    "import plotly.express as px\n",
    "import plotly.offline as py\n",
    "from sklearn import datasets, linear_model\n",
    "from sklearn.decomposition import PCA\n",
    "from sklearn.preprocessing import MinMaxScaler"
   ]
  },
  {
   "cell_type": "code",
   "execution_count": null,
   "metadata": {},
   "outputs": [],
   "source": [
    "# Read in the source files and create music_df DataFrame\n",
    "full_music_data = pd.read_csv(\"full_music_data.csv\")\n",
    "spotify_music_df = pd.read_csv(\"music_genre.csv\")\n"
   ]
  },
  {
   "cell_type": "code",
   "execution_count": null,
   "metadata": {},
   "outputs": [],
   "source": [
    "spotify_music_df.head(10)\n"
   ]
  },
  {
   "cell_type": "code",
   "execution_count": null,
   "metadata": {},
   "outputs": [],
   "source": [
    "spotify_music_df.info()\n"
   ]
  },
  {
   "cell_type": "markdown",
   "metadata": {},
   "source": [
    "# Distribution of Genres"
   ]
  },
  {
   "cell_type": "code",
   "execution_count": null,
   "metadata": {},
   "outputs": [],
   "source": [
    "fig = px.bar(spotify_music_df.groupby('genre').size())\n",
    "fig.update_layout(title={'text': f\"Distribution of Each Song's Genre\", 'x': 0.5,\n",
    "                             'xanchor': 'center', 'font': {'size': 20}}, yaxis_title = \"Count\", showlegend = False)"
   ]
  },
  {
   "cell_type": "markdown",
   "metadata": {},
   "source": [
    "## Insights drawn from the Genre Distribution plot\n",
    "\n",
    "As seen from the bar chart above, the Pop/Rock genre is overwhelmingly the most dominant genre in the dataset\n"
   ]
  },
  {
   "cell_type": "markdown",
   "metadata": {},
   "source": [
    "# Analyzing Correlation of audio features"
   ]
  },
  {
   "cell_type": "code",
   "execution_count": null,
   "metadata": {},
   "outputs": [],
   "source": [
    "colormap = plt.cm.RdBu\n",
    "plt.figure(figsize=(16,14))\n",
    "sns.heatmap(spotify_music_df.drop(columns = ['song_id', 'artist_names', 'artists_id','release_date','song_title', 'genre', 'duration_ms']).corr(), linewidths = 0.1, cmap = colormap, vmax=1.0, square = True, annot = True, center = 0)\n"
   ]
  },
  {
   "cell_type": "markdown",
   "metadata": {},
   "source": [
    "## Insights drawn from correlation matrix\n",
    "\n",
    "As seen from the correlation matrix above, popularity is strongly correlated with the year the song was released. This understanding aligns with expected outcomes as Spotify generates its 'popularity' value not just by the number of streams or views a song receives, but also by how recent they are \n",
    "\n",
    "Acousticness, as expected has a strong negative correlation with energy since high energy songs are generally associated with electronic music and lower the acoustic/manual elements in a song, lower the energy levels of a song\n",
    "\n",
    "Conversely, energy along similar lines has a strong positive correlation with loudness. This is expected as high energy songs tend to be loud "
   ]
  },
  {
   "cell_type": "markdown",
   "metadata": {},
   "source": [
    "# Defining Music Eras "
   ]
  },
  {
   "cell_type": "code",
   "execution_count": null,
   "metadata": {},
   "outputs": [],
   "source": [
    "def year(df):\n",
    "    if df>1920 and df<=1945:\n",
    "        return \"Post War (1920 - 1945)\"\n",
    "    if df>1945 and df<=1970:\n",
    "        return \"Retro (1946 - 1970)\"\n",
    "    if df>1970 and df<=1995:\n",
    "        return \"Millenial (1971 - 1995)\"\n",
    "    else:\n",
    "        return \"Post-Modern (1996 - 2020)\"\n",
    "spotify_music_df['era'] = spotify_music_df['year'].apply(year)\n",
    "px.pie(data_frame = spotify_music_df, names = 'era', hole = 0.2, title = 'Music Eras (1921 to 2020)')\n"
   ]
  },
  {
   "cell_type": "markdown",
   "metadata": {},
   "source": [
    "## Insights drawn from Music Eras\n",
    "\n",
    "As seen from the distribution of music created across the different eras of music, it can be observed that ~40% of the total music created in the last 100 years is in the millenial age - 1970 to 1995. It's also interesting to note that songs created in the post-war era from 1920 to 1945 is just ~2 % of the total music created till date. This can be explained based on the mood and priorities coming out of the World War and people likely prioritizing things other than music (as they probably should)\n"
   ]
  },
  {
   "cell_type": "markdown",
   "metadata": {},
   "source": [
    "# Classifying degree of loudness of songs"
   ]
  },
  {
   "cell_type": "code",
   "execution_count": null,
   "metadata": {},
   "outputs": [],
   "source": [
    "def loud(row):\n",
    "    median = spotify_music_df['loudness'].median()\n",
    "    stdev = spotify_music_df['loudness'].std()\n",
    "    if row['loudness'] >= median + (1.5 * stdev):\n",
    "        return \"Extreme\"\n",
    "    elif row['loudness'] >= median + (stdev):\n",
    "        return \"Very Loud\"\n",
    "    elif row['loudness'] >= median + (0.5 * stdev):\n",
    "        return \"Loud\"\n",
    "    elif row['loudness'] >= median - (0.5 * stdev):\n",
    "        return \"Soft\"\n",
    "    elif row['loudness'] >= median - (stdev):\n",
    "        return \"Very Soft\"\n",
    "    else:\n",
    "        return \"Mellow\"\n",
    "spotify_music_df['is_loud'] = spotify_music_df.apply(lambda row: loud(row), axis = 1)\n",
    "px.pie(data_frame = spotify_music_df, names = 'is_loud', hole = 0.2, title = 'DEGREE of LOUDNESS')\n"
   ]
  },
  {
   "cell_type": "markdown",
   "metadata": {},
   "source": [
    "## Insights drawn from Degree of Loudness\n",
    "\n",
    "Based on the piechart above, it can be seen that 39% of the songs are 'Soft' and less than 1% of the songs are 'Extreme, with a fairly even distribution of songs considered to be 'Loud' and 'Mellow'"
   ]
  },
  {
   "cell_type": "markdown",
   "metadata": {},
   "source": [
    "# Classifying Popularity of songs"
   ]
  },
  {
   "cell_type": "code",
   "execution_count": null,
   "metadata": {},
   "outputs": [],
   "source": [
    "def func(df):\n",
    "    if df > 75:\n",
    "        return 'Very Popular (> 75)'\n",
    "    elif df > 50 and df < 76:\n",
    "        return 'Popular (51 to 74)'\n",
    "    elif df > 25 and df < 51:\n",
    "        return 'Neither Popular nor Unpopular (26 to 50)'\n",
    "    else:\n",
    "        return 'Unpopular (< 26)'\n",
    "spotify_music_df['isPopular'] = spotify_music_df['popularity'].apply(func)\n",
    "px.pie(data_frame = spotify_music_df, names = 'isPopular', hole = 0.2, title = 'POPULARITY (values ranging 1 - 100)')\n"
   ]
  },
  {
   "cell_type": "markdown",
   "metadata": {},
   "source": [
    "## Insights drawn from Popularity\n",
    "\n",
    "Based on the piechart above, it can be observed that about half the songs are neither popular nor unpopular, meaning over half the songs have a popularity score between 25 and 50. About a fifth of the total songs are classified as popular, with nearly 28% of the songs having a low popularity score of less than 25\n"
   ]
  },
  {
   "cell_type": "code",
   "execution_count": null,
   "metadata": {},
   "outputs": [],
   "source": [
    "# Plot histogram to show distribution of songs based on energy levels and heatmap of songs based on valence and danceability\n",
    "\n",
    "x = \"danceability\"\n",
    "y = \"valence\"\n",
    "\n",
    "fig, (ax1, ax2) = plt.subplots(1, 2, sharey = False, sharex = False, figsize = (16, 10))\n",
    "fig.suptitle(\"Histograms\")\n",
    "h = ax2.hist2d(spotify_music_df[x], spotify_music_df[y], bins = 30)\n",
    "ax1.hist(spotify_music_df[\"energy\"])\n",
    "\n",
    "ax2.set_xlabel(x)\n",
    "ax2.set_ylabel(y)\n",
    "\n",
    "ax1.set_xlabel(\"energy\")\n",
    "\n",
    "plt.colorbar(h[3], ax = ax2)\n",
    "\n",
    "plt.show()\n"
   ]
  },
  {
   "cell_type": "markdown",
   "metadata": {},
   "source": [
    "### The Spotify Web API developer guide defines the 'valence', 'energy' and 'danceability' audio features as follows: \n",
    "\n",
    "Energy: Energy is a measure from 0.0 to 1.0 and represents a perceptual measure of intensity and activity. Typically, energetic tracks feel fast, loud, and noisy.\n",
    "\n",
    "Danceability: Describes how suitable a track is for dancing based on a combination of musical elements including tempo, rhythm stability, beat strength, and overall regularity. \n",
    "\n",
    "Valence: Describes the musical positiveness conveyed by a track\n",
    "\n",
    "The histogram on the left illustrates the distribution of songs based on their energy levels, and it can be seen that it follows a fairly normal distribution but is slightly skewed to the right with the largest number of songs having an energy value between 0.4 to 0.6. \n",
    "\n",
    "The illustration on the right indicates a heatmap showing how danceability varies based on valence values of songs. It can be seen that most number of songs can be found to have a valence and danceability value of ~0.6."
   ]
  },
  {
   "cell_type": "markdown",
   "metadata": {},
   "source": [
    "## Principal Component Analysis"
   ]
  },
  {
   "cell_type": "code",
   "execution_count": null,
   "metadata": {},
   "outputs": [],
   "source": [
    "# PCA\n",
    "\n",
    "selected_attributes = [\"energy\", \"liveness\", \"tempo\", \"valence\", \"loudness\", \"speechiness\", \"acousticness\", \"danceability\", \"instrumentalness\"]\n",
    "display_text_1 = spotify_music_df[\"artist_names\"] + \" - \" + spotify_music_df[\"song_title\"]\n",
    "display_text_2 = display_text_1.values\n",
    "\n",
    "X = spotify_music_df[selected_attributes].values\n",
    "y = spotify_music_df[\"danceability\"].values\n",
    "\n",
    "min_max_scaler = MinMaxScaler()\n",
    "X = min_max_scaler.fit_transform(X)\n",
    "\n",
    "pca = PCA(n_components = 3)\n",
    "pca.fit(X)\n",
    "\n",
    "X = pca.transform(X)\n",
    "\n",
    "import plotly.offline as py\n",
    "py.init_notebook_mode(connected = True)\n",
    "import plotly.graph_objs as go\n",
    "import plotly.tools as tls\n",
    "\n",
    "plot = go.Scatter3d(x = X[:,0], y = X[:,1], z = X[:,2], name = 'Song Similarity', text = display_text_2, mode = \"markers\", marker = dict(size = 6, color = y))\n",
    "layout = go.Layout(title = 'Song Similarity Plot')\n",
    "fig.update_layout(margin=dict(l=0, r=0, b=0, t=0))\n",
    "fig = go.Figure(data = [plot], layout = layout)\n",
    "fig.show()\n"
   ]
  },
  {
   "cell_type": "markdown",
   "metadata": {},
   "source": [
    "### Insights drawn from the PCA\n",
    "\n",
    "Based on the 3d plot above, the more similar the color between any two songs, the greater the similarity in their attributes"
   ]
  }
 ],
 "metadata": {
  "kernelspec": {
   "display_name": "PythonData",
   "language": "python",
   "name": "pythondata"
  },
  "language_info": {
   "codemirror_mode": {
    "name": "ipython",
    "version": 3
   },
   "file_extension": ".py",
   "mimetype": "text/x-python",
   "name": "python",
   "nbconvert_exporter": "python",
   "pygments_lexer": "ipython3",
   "version": "3.7.8"
  }
 },
 "nbformat": 4,
 "nbformat_minor": 4
}
