{
 "cells": [
  {
   "cell_type": "code",
   "execution_count": null,
   "metadata": {},
   "outputs": [],
   "source": [
    "import pandas as pd\n",
    "import seaborn as sns\n",
    "import numpy as np\n",
    "import matplotlib.pyplot as plt\n",
    "%matplotlib inline\n",
    "import plotly.graph_objects as go\n",
    "import plotly.express as px\n",
    "import plotly.offline as py\n",
    "from sklearn import datasets, linear_model\n",
    "from sklearn.decomposition import PCA\n",
    "from sklearn.preprocessing import MinMaxScaler\n",
    "from sklearn.manifold import TSNE"
   ]
  },
  {
   "cell_type": "code",
   "execution_count": null,
   "metadata": {},
   "outputs": [],
   "source": [
    "# Read in the source files and create music_df DataFrame\n",
    "full_music_data = pd.read_csv(\"full_music_data.csv\")\n",
    "spotify_music_df = pd.read_csv(\"music_genre.csv\")\n"
   ]
  },
  {
   "cell_type": "code",
   "execution_count": null,
   "metadata": {},
   "outputs": [],
   "source": [
    "spotify_music_df.head(10)\n"
   ]
  },
  {
   "cell_type": "code",
   "execution_count": null,
   "metadata": {},
   "outputs": [],
   "source": [
    "spotify_music_df.info()\n"
   ]
  },
  {
   "cell_type": "markdown",
   "metadata": {},
   "source": [
    "# Distribution of Genres"
   ]
  },
  {
   "cell_type": "code",
   "execution_count": null,
   "metadata": {},
   "outputs": [],
   "source": [
    "fig = px.bar(spotify_music_df.groupby('genre').size())\n",
    "fig.update_layout(title={'text': f\"Distribution of Each Song's Genre\", 'x': 0.5,\n",
    "                             'xanchor': 'center', 'font': {'size': 20}}, yaxis_title=\"Count\", showlegend=False)"
   ]
  },
  {
   "cell_type": "markdown",
   "metadata": {},
   "source": [
    "## Insights drawn from correlation matrix\n",
    "\n",
    "As seen from the bar chart above, the Pop/Rock genre is overwhelmingly the most dominant genre in the dataset\n"
   ]
  },
  {
   "cell_type": "markdown",
   "metadata": {},
   "source": [
    "# Analyzing Correlation of audio features"
   ]
  },
  {
   "cell_type": "code",
   "execution_count": null,
   "metadata": {},
   "outputs": [],
   "source": [
    "colormap=plt.cm.RdBu\n",
    "plt.figure(figsize=(16,14))\n",
    "sns.heatmap(spotify_music_df.drop(columns=['song_id', 'artist_names', 'artists_id','release_date','song_title', 'genre', 'duration_ms']).corr(),linewidths=0.1,cmap= colormap, vmax=1.0, square = True, annot = True, center = 0)\n"
   ]
  },
  {
   "cell_type": "markdown",
   "metadata": {},
   "source": [
    "## Insights drawn from correlation matrix\n",
    "\n",
    "As seen from the correlation matrix above, popularity is strongly correlated with the year released. This understanding aligns with expected outcomes as Spotify generates its 'popularity' value not just by the number of streams or views a song receives, but also by how recent they are \n",
    "\n",
    "Acousticness, as expected has a strong negative correlation with energy since high energy songs are generally associated with electronic music and lower the acoustic/manual elements in a song, lower the energy levels of a song\n",
    "\n",
    "Conversely, energy along similar lines has a strong positive correlation with loudness. This is expected as high energy songs tend to be loud "
   ]
  },
  {
   "cell_type": "markdown",
   "metadata": {},
   "source": [
    "# Defining Music Eras "
   ]
  },
  {
   "cell_type": "code",
   "execution_count": null,
   "metadata": {},
   "outputs": [],
   "source": [
    "def year(df):\n",
    "    if df>1920 and df<=1945:\n",
    "        return \"Post War\"\n",
    "    if df>1945 and df<=1970:\n",
    "        return \"Retro\"\n",
    "    if df>1970 and df<=1995:\n",
    "        return \"Millenial\"\n",
    "    else:\n",
    "        return \"Post-Modern\"\n",
    "full_music_data['era'] = full_music_data['year'].apply(year)\n",
    "px.pie(data_frame = full_music_data, names = 'era', hole = 0.2, title = 'Music Eras')\n"
   ]
  },
  {
   "cell_type": "markdown",
   "metadata": {},
   "source": [
    "## Insights drawn from Music Eras\n",
    "\n",
    "As seen from the distribution of music created across the different eras of music, it can be observed that close to half of the total music created (based on available data) is in the millenial age - 1970 to 1995. It's also interesting to note that songs created in the post-war era from 1920 to 1945 is just ~3 % of the total music created till date. This can be explained based on the mood and priorities coming out of the World War and people likely prioritizing things other than music (as they probably should)\n"
   ]
  },
  {
   "cell_type": "markdown",
   "metadata": {},
   "source": [
    "# Classifying degree of loudness of songs"
   ]
  },
  {
   "cell_type": "code",
   "execution_count": null,
   "metadata": {},
   "outputs": [],
   "source": [
    "def loud(row):\n",
    "    median = full_music_data['loudness'].median()\n",
    "    stdev = full_music_data['loudness'].std()\n",
    "    if row['loudness'] >= median + (1.5 * stdev):\n",
    "        return \"Extreme\"\n",
    "    elif row['loudness'] >= median + (stdev):\n",
    "        return \"Very Loud\"\n",
    "    elif row['loudness'] >= median + (0.5 * stdev):\n",
    "        return \"Loud\"\n",
    "    elif row['loudness'] >= median - (0.5 * stdev):\n",
    "        return \"Soft\"\n",
    "    elif row['loudness'] >= median - (stdev):\n",
    "        return \"Very Soft\"\n",
    "    else:\n",
    "        return \"Mellow\"\n",
    "full_music_data['is_loud'] = full_music_data.apply(lambda row: loud(row), axis = 1)\n",
    "px.pie(data_frame = full_music_data, names = 'is_loud', hole = 0.2, title = 'DEGREE of LOUDNESS')\n"
   ]
  },
  {
   "cell_type": "markdown",
   "metadata": {},
   "source": [
    "## Insights drawn from Degree of Loudness\n",
    "\n",
    "Based on the piechart above, it can be seen that nearly 40% of the songs are 'Soft' and less than 1% of the songs are 'Extreme'"
   ]
  },
  {
   "cell_type": "markdown",
   "metadata": {},
   "source": [
    "# Classifying Popularity of songs"
   ]
  },
  {
   "cell_type": "code",
   "execution_count": null,
   "metadata": {},
   "outputs": [],
   "source": [
    "def func(df):\n",
    "    if df > 75:\n",
    "        return 'Very Popular'\n",
    "    elif df > 50 and df < 76:\n",
    "        return 'Popular'\n",
    "    elif df > 25 and df < 51:\n",
    "        return 'Neither Popular nor Unpopular'\n",
    "    else:\n",
    "        return 'Unpopular'\n",
    "full_music_data['isPopular'] = full_music_data['popularity'].apply(func)\n",
    "px.pie(data_frame = full_music_data, names = 'isPopular', hole = 0.2, title = 'POPULARITY')\n"
   ]
  },
  {
   "cell_type": "markdown",
   "metadata": {},
   "source": [
    "## Insights drawn from Degree of Loudness\n",
    "\n",
    "Based on the piechart above, it can be observed that about half the songs are neither popular nor unpopular, with about a fifth of the total songs being classified as popular, with nearly 28% of the songs having a low popularity score\n"
   ]
  },
  {
   "cell_type": "code",
   "execution_count": null,
   "metadata": {},
   "outputs": [],
   "source": [
    "# Plot histogram to show distribution of songs based on energy levels and heatmap of songs based on valence and danceability\n",
    "\n",
    "x = \"danceability\"\n",
    "y = \"valence\"\n",
    "\n",
    "fig, (ax1, ax2) = plt.subplots(1, 2, sharey = False, sharex = False, figsize = (16, 10))\n",
    "fig.suptitle(\"Histograms\")\n",
    "h = ax2.hist2d(spotify_music_df[x], spotify_music_df[y], bins = 20)\n",
    "ax1.hist(spotify_music_df[\"energy\"])\n",
    "\n",
    "ax2.set_xlabel(x)\n",
    "ax2.set_ylabel(y)\n",
    "\n",
    "ax1.set_xlabel(\"energy\")\n",
    "\n",
    "plt.colorbar(h[3], ax = ax2)\n",
    "\n",
    "plt.show()\n"
   ]
  },
  {
   "cell_type": "markdown",
   "metadata": {},
   "source": [
    "### The Spotify Web API developer guide defines them as follows: \n",
    "\n",
    "Danceability: Describes how suitable a track is for dancing based on a combination of musical elements including tempo, rhythm stability, beat strength, and overall regularity. \n",
    "\n",
    "Valence: Describes the musical positiveness conveyed by a track\n",
    "\n",
    "The histogram on the left illustrates the distribution of songs based on their energy levels, and it can be seen that it follows a fairly normal distribution but is slightly skewed to the right with the largest number of songs having an energy value between 0.4 to 0.6. \n",
    "\n",
    "The illustration on the right indicates a heatmap showing how danceability varies based on valence values of songs. It can be seen that most number of songs can be found to have a valence and danceability value of ~0.6."
   ]
  },
  {
   "cell_type": "markdown",
   "metadata": {},
   "source": [
    "## Principal Component Analysis"
   ]
  },
  {
   "cell_type": "code",
   "execution_count": null,
   "metadata": {},
   "outputs": [],
   "source": [
    "selected_attributes = [\"energy\", \"liveness\", \"tempo\", \"valence\", \"loudness\", \"speechiness\", \"acousticness\", \"danceability\", \"instrumentalness\"]\n",
    "display_text_1 = spotify_music_df[\"artist_names\"] + \" - \" + spotify_music_df[\"song_title\"]\n",
    "display_text_2 = display_text_1.values\n",
    "\n",
    "# X = data_frame.drop(droppable, axis=1).values\n",
    "X = spotify_music_df[selected_attributes].values\n",
    "y = spotify_music_df[\"danceability\"].values\n",
    "\n",
    "min_max_scaler = MinMaxScaler()\n",
    "X = min_max_scaler.fit_transform(X)\n",
    "\n",
    "pca = PCA(n_components=3)\n",
    "pca.fit(X)\n",
    "\n",
    "X = pca.transform(X)\n",
    "\n",
    "import plotly.offline as py\n",
    "py.init_notebook_mode(connected=True)\n",
    "import plotly.graph_objs as go\n",
    "import plotly.tools as tls\n",
    "\n",
    "trace = go.Scatter3d(x = X[:,0], y = X[:,1], z = X[:,2], text = display_text_2, mode = \"markers\", marker = dict(size = 8, color = y))\n",
    "\n",
    "fig = go.Figure(data = [trace])\n",
    "py.iplot(fig, filename = \"PCA-plot\")\n"
   ]
  },
  {
   "cell_type": "markdown",
   "metadata": {},
   "source": [
    "### Insights drawn from the PCA\n",
    "\n",
    "Based on the 3d plot above, the lesser the distance between any two songs, the larger the similarities in their traits."
   ]
  },
  {
   "cell_type": "markdown",
   "metadata": {},
   "source": []
  },
  {
   "cell_type": "code",
   "execution_count": null,
   "metadata": {},
   "outputs": [],
   "source": []
  }
 ],
 "metadata": {
  "kernelspec": {
   "display_name": "PythonData",
   "language": "python",
   "name": "pythondata"
  },
  "language_info": {
   "codemirror_mode": {
    "name": "ipython",
    "version": 3
   },
   "file_extension": ".py",
   "mimetype": "text/x-python",
   "name": "python",
   "nbconvert_exporter": "python",
   "pygments_lexer": "ipython3",
   "version": "3.7.8"
  }
 },
 "nbformat": 4,
 "nbformat_minor": 4
}
